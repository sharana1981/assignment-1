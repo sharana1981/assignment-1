{
 "cells": [
  {
   "cell_type": "markdown",
   "id": "0dd6abe3",
   "metadata": {},
   "source": [
    "1)\n",
    "\"*\" is an expression(multiplication operator)\n",
    "\"hello\" is an value(string type)\n",
    "-87.8 is a value(float type)\n",
    "\"-\" is an expression(substraction operator)\n",
    "\"/\" is a expression (division operator)\n",
    "\"+\" is an expression (addition operator)\n",
    "\"6\" is a value(int type)"
   ]
  },
  {
   "cell_type": "markdown",
   "id": "cb6caff8",
   "metadata": {},
   "source": [
    "2)\n",
    "string is a type of  value or a data which is written in between the \"\" or ''\n",
    "variable is a name given to a memory location where the value is stored"
   ]
  },
  {
   "cell_type": "markdown",
   "id": "0f32798b",
   "metadata": {},
   "source": [
    "3)\n",
    "the three different data types are:\n",
    "    1) single valued datatype\n",
    "    2) multi value datatype\n",
    "    3) boolean data type"
   ]
  },
  {
   "cell_type": "markdown",
   "id": "b5c841e8",
   "metadata": {},
   "source": [
    "4)\n",
    "expressions are made up of values and operators.which performs mathematical operations to give certain results"
   ]
  },
  {
   "cell_type": "markdown",
   "id": "226207d0",
   "metadata": {},
   "source": [
    "5)expression is a something which consist of values and operators which performs specic mathematical operations,whereas statements are the part of code which help the interpreter to execute."
   ]
  },
  {
   "cell_type": "markdown",
   "id": "910623d5",
   "metadata": {},
   "source": [
    "6)the value of bacon will be 22"
   ]
  },
  {
   "cell_type": "markdown",
   "id": "f5e6ae04",
   "metadata": {},
   "source": [
    "7)\"spam\"+\"spamspam\" will be \"spamspamspam\" is string concatenation\n",
    "\"spam\"*3 will be \"spamspamspam\" is string copy"
   ]
  },
  {
   "cell_type": "markdown",
   "id": "21f28da4",
   "metadata": {},
   "source": [
    "8)eggs is a valid variable name because according to rules of identifier variable name can start with alphabets,whereaas 100 is not a valid variable name because according to rules of identifier variable name should not start with numbers,spl characters."
   ]
  },
  {
   "cell_type": "markdown",
   "id": "81c860e4",
   "metadata": {},
   "source": [
    "9)To get the integer value we use 'int()'\n",
    "  To get the float value we use 'float()'\n",
    "  to get the sring value we use 'str()'"
   ]
  },
  {
   "cell_type": "markdown",
   "id": "709bb4ee",
   "metadata": {},
   "source": [
    "10) the expression cause a type error because the string concatenation can be done with same string data type but not with other data type,this can be fixed by converting the int datatype(99) to string datatype by using str(),or writing within the '' or \"\"."
   ]
  }
 ],
 "metadata": {
  "kernelspec": {
   "display_name": "Python 3 (ipykernel)",
   "language": "python",
   "name": "python3"
  },
  "language_info": {
   "codemirror_mode": {
    "name": "ipython",
    "version": 3
   },
   "file_extension": ".py",
   "mimetype": "text/x-python",
   "name": "python",
   "nbconvert_exporter": "python",
   "pygments_lexer": "ipython3",
   "version": "3.9.12"
  }
 },
 "nbformat": 4,
 "nbformat_minor": 5
}
